{
 "cells": [
  {
   "cell_type": "code",
   "execution_count": 47,
   "metadata": {
    "pycharm": {
     "is_executing": false,
     "name": "#%%\n"
    }
   },
   "outputs": [],
   "source": [
    "import pandas as pd\n",
    "from gensim.models import KeyedVectors"
   ]
  },
  {
   "cell_type": "code",
   "execution_count": 5,
   "metadata": {
    "pycharm": {
     "is_executing": false,
     "name": "#%%\n"
    }
   },
   "outputs": [],
   "source": [
    "model = KeyedVectors.load_word2vec_format('GoogleNews-vectors-negative300.bin', binary=True)\n"
   ]
  },
  {
   "cell_type": "code",
   "execution_count": 42,
   "metadata": {
    "pycharm": {
     "name": "#%%\n"
    }
   },
   "outputs": [],
   "source": [
    "df = pd.read_csv(\"Final_Labeled_Data.csv\")\n",
    "df_caption = df[['Caption_Tokens']]\n",
    "df_label = df[['0']]\n",
    "df_caption.columns = ['Caption']\n",
    "df_label.columns = ['Label']"
   ]
  },
  {
   "cell_type": "code",
   "execution_count": 43,
   "metadata": {},
   "outputs": [],
   "source": [
    "def embedding(caption):\n",
    "    words = caption.split(' ')\n",
    "    length = 0\n",
    "    x = [0] * 300\n",
    "    for word in words:\n",
    "        if word in model.vocab:\n",
    "            length += 1\n",
    "            x += model[word]\n",
    "    #print(x)\n",
    "    x /= length\n",
    "    return x"
   ]
  },
  {
   "cell_type": "code",
   "execution_count": 44,
   "metadata": {},
   "outputs": [
    {
     "data": {
      "text/html": [
       "<div>\n",
       "<style scoped>\n",
       "    .dataframe tbody tr th:only-of-type {\n",
       "        vertical-align: middle;\n",
       "    }\n",
       "\n",
       "    .dataframe tbody tr th {\n",
       "        vertical-align: top;\n",
       "    }\n",
       "\n",
       "    .dataframe thead th {\n",
       "        text-align: right;\n",
       "    }\n",
       "</style>\n",
       "<table border=\"1\" class=\"dataframe\">\n",
       "  <thead>\n",
       "    <tr style=\"text-align: right;\">\n",
       "      <th></th>\n",
       "      <th>Caption</th>\n",
       "      <th>0</th>\n",
       "      <th>1</th>\n",
       "      <th>2</th>\n",
       "      <th>3</th>\n",
       "      <th>4</th>\n",
       "      <th>5</th>\n",
       "      <th>6</th>\n",
       "      <th>7</th>\n",
       "      <th>8</th>\n",
       "      <th>...</th>\n",
       "      <th>291</th>\n",
       "      <th>292</th>\n",
       "      <th>293</th>\n",
       "      <th>294</th>\n",
       "      <th>295</th>\n",
       "      <th>296</th>\n",
       "      <th>297</th>\n",
       "      <th>298</th>\n",
       "      <th>299</th>\n",
       "      <th>Label</th>\n",
       "    </tr>\n",
       "  </thead>\n",
       "  <tbody>\n",
       "    <tr>\n",
       "      <td>0</td>\n",
       "      <td>walking feed sick new gear new brand partner f...</td>\n",
       "      <td>0.034108</td>\n",
       "      <td>0.012258</td>\n",
       "      <td>0.006478</td>\n",
       "      <td>0.070325</td>\n",
       "      <td>-0.052168</td>\n",
       "      <td>0.008358</td>\n",
       "      <td>0.073190</td>\n",
       "      <td>-0.080140</td>\n",
       "      <td>0.069029</td>\n",
       "      <td>...</td>\n",
       "      <td>0.090974</td>\n",
       "      <td>-0.102920</td>\n",
       "      <td>-0.003096</td>\n",
       "      <td>-0.029723</td>\n",
       "      <td>-0.012054</td>\n",
       "      <td>0.058562</td>\n",
       "      <td>-0.043204</td>\n",
       "      <td>-0.036719</td>\n",
       "      <td>-0.009616</td>\n",
       "      <td>1.0</td>\n",
       "    </tr>\n",
       "    <tr>\n",
       "      <td>1</td>\n",
       "      <td>one literally one zero calorie sugar free low ...</td>\n",
       "      <td>0.010624</td>\n",
       "      <td>-0.039924</td>\n",
       "      <td>0.075931</td>\n",
       "      <td>0.102078</td>\n",
       "      <td>-0.080397</td>\n",
       "      <td>-0.005319</td>\n",
       "      <td>0.058153</td>\n",
       "      <td>-0.104674</td>\n",
       "      <td>0.112210</td>\n",
       "      <td>...</td>\n",
       "      <td>-0.048665</td>\n",
       "      <td>-0.094824</td>\n",
       "      <td>0.012027</td>\n",
       "      <td>-0.084527</td>\n",
       "      <td>-0.003113</td>\n",
       "      <td>-0.054457</td>\n",
       "      <td>0.073022</td>\n",
       "      <td>-0.017695</td>\n",
       "      <td>-0.007473</td>\n",
       "      <td>1.0</td>\n",
       "    </tr>\n",
       "    <tr>\n",
       "      <td>2</td>\n",
       "      <td>thank listening article original post micro ar...</td>\n",
       "      <td>-0.027232</td>\n",
       "      <td>-0.005324</td>\n",
       "      <td>0.006204</td>\n",
       "      <td>0.060740</td>\n",
       "      <td>-0.141992</td>\n",
       "      <td>0.020840</td>\n",
       "      <td>0.070079</td>\n",
       "      <td>-0.081478</td>\n",
       "      <td>0.059334</td>\n",
       "      <td>...</td>\n",
       "      <td>0.061306</td>\n",
       "      <td>-0.080115</td>\n",
       "      <td>-0.016185</td>\n",
       "      <td>-0.077406</td>\n",
       "      <td>-0.078720</td>\n",
       "      <td>-0.019833</td>\n",
       "      <td>-0.025862</td>\n",
       "      <td>-0.007528</td>\n",
       "      <td>-0.005622</td>\n",
       "      <td>1.0</td>\n",
       "    </tr>\n",
       "    <tr>\n",
       "      <td>3</td>\n",
       "      <td>climbing brush name today sad annoying men cli...</td>\n",
       "      <td>0.030189</td>\n",
       "      <td>0.068552</td>\n",
       "      <td>0.005820</td>\n",
       "      <td>0.057051</td>\n",
       "      <td>-0.058117</td>\n",
       "      <td>-0.001074</td>\n",
       "      <td>0.044003</td>\n",
       "      <td>0.006465</td>\n",
       "      <td>0.063615</td>\n",
       "      <td>...</td>\n",
       "      <td>0.087766</td>\n",
       "      <td>-0.070190</td>\n",
       "      <td>-0.032345</td>\n",
       "      <td>-0.031377</td>\n",
       "      <td>-0.024780</td>\n",
       "      <td>0.026162</td>\n",
       "      <td>-0.007902</td>\n",
       "      <td>0.014572</td>\n",
       "      <td>0.000260</td>\n",
       "      <td>1.0</td>\n",
       "    </tr>\n",
       "    <tr>\n",
       "      <td>4</td>\n",
       "      <td>since think told boring told high maintenance ...</td>\n",
       "      <td>0.043000</td>\n",
       "      <td>0.026150</td>\n",
       "      <td>0.015128</td>\n",
       "      <td>0.090190</td>\n",
       "      <td>-0.082359</td>\n",
       "      <td>0.045799</td>\n",
       "      <td>0.101646</td>\n",
       "      <td>-0.013319</td>\n",
       "      <td>0.101620</td>\n",
       "      <td>...</td>\n",
       "      <td>0.056556</td>\n",
       "      <td>-0.042497</td>\n",
       "      <td>0.020013</td>\n",
       "      <td>-0.086630</td>\n",
       "      <td>-0.050474</td>\n",
       "      <td>0.051814</td>\n",
       "      <td>-0.026838</td>\n",
       "      <td>0.023237</td>\n",
       "      <td>-0.002928</td>\n",
       "      <td>1.0</td>\n",
       "    </tr>\n",
       "  </tbody>\n",
       "</table>\n",
       "<p>5 rows × 302 columns</p>\n",
       "</div>"
      ],
      "text/plain": [
       "                                             Caption         0         1  \\\n",
       "0  walking feed sick new gear new brand partner f...  0.034108  0.012258   \n",
       "1  one literally one zero calorie sugar free low ...  0.010624 -0.039924   \n",
       "2  thank listening article original post micro ar... -0.027232 -0.005324   \n",
       "3  climbing brush name today sad annoying men cli...  0.030189  0.068552   \n",
       "4  since think told boring told high maintenance ...  0.043000  0.026150   \n",
       "\n",
       "          2         3         4         5         6         7         8  ...  \\\n",
       "0  0.006478  0.070325 -0.052168  0.008358  0.073190 -0.080140  0.069029  ...   \n",
       "1  0.075931  0.102078 -0.080397 -0.005319  0.058153 -0.104674  0.112210  ...   \n",
       "2  0.006204  0.060740 -0.141992  0.020840  0.070079 -0.081478  0.059334  ...   \n",
       "3  0.005820  0.057051 -0.058117 -0.001074  0.044003  0.006465  0.063615  ...   \n",
       "4  0.015128  0.090190 -0.082359  0.045799  0.101646 -0.013319  0.101620  ...   \n",
       "\n",
       "        291       292       293       294       295       296       297  \\\n",
       "0  0.090974 -0.102920 -0.003096 -0.029723 -0.012054  0.058562 -0.043204   \n",
       "1 -0.048665 -0.094824  0.012027 -0.084527 -0.003113 -0.054457  0.073022   \n",
       "2  0.061306 -0.080115 -0.016185 -0.077406 -0.078720 -0.019833 -0.025862   \n",
       "3  0.087766 -0.070190 -0.032345 -0.031377 -0.024780  0.026162 -0.007902   \n",
       "4  0.056556 -0.042497  0.020013 -0.086630 -0.050474  0.051814 -0.026838   \n",
       "\n",
       "        298       299  Label  \n",
       "0 -0.036719 -0.009616    1.0  \n",
       "1 -0.017695 -0.007473    1.0  \n",
       "2 -0.007528 -0.005622    1.0  \n",
       "3  0.014572  0.000260    1.0  \n",
       "4  0.023237 -0.002928    1.0  \n",
       "\n",
       "[5 rows x 302 columns]"
      ]
     },
     "execution_count": 44,
     "metadata": {},
     "output_type": "execute_result"
    }
   ],
   "source": [
    "temp = df_caption['Caption'].apply(embedding)\n",
    "df_emb = pd.DataFrame(temp.values.tolist())\n",
    "df_final = pd.concat([df_caption, df_emb, df_label], axis = 1)\n",
    "df.head()"
   ]
  },
  {
   "cell_type": "code",
   "execution_count": 49,
   "metadata": {},
   "outputs": [],
   "source": [
    "df_final.to_csv(\"w2v_final_data.csv\", index=False)"
   ]
  },
  {
   "cell_type": "code",
   "execution_count": null,
   "metadata": {},
   "outputs": [],
   "source": []
  }
 ],
 "metadata": {
  "kernelspec": {
   "display_name": "Python 3",
   "language": "python",
   "name": "python3"
  },
  "language_info": {
   "codemirror_mode": {
    "name": "ipython",
    "version": 3
   },
   "file_extension": ".py",
   "mimetype": "text/x-python",
   "name": "python",
   "nbconvert_exporter": "python",
   "pygments_lexer": "ipython3",
   "version": "3.7.4"
  },
  "pycharm": {
   "stem_cell": {
    "cell_type": "raw",
    "metadata": {
     "collapsed": false
    },
    "source": []
   }
  }
 },
 "nbformat": 4,
 "nbformat_minor": 1
}
