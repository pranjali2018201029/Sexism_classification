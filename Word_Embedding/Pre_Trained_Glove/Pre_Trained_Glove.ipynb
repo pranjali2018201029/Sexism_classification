{
  "nbformat": 4,
  "nbformat_minor": 0,
  "metadata": {
    "colab": {
      "name": "Pre_Trained_Glove.ipynb",
      "provenance": [],
      "collapsed_sections": []
    },
    "kernelspec": {
      "name": "python3",
      "display_name": "Python 3"
    }
  },
  "cells": [
    {
      "cell_type": "code",
      "metadata": {
        "id": "8VB4hHTMv5N-",
        "colab_type": "code",
        "colab": {}
      },
      "source": [
        "## Install glove-python module\n",
        "!pip install -q glove-python"
      ],
      "execution_count": 0,
      "outputs": []
    },
    {
      "cell_type": "code",
      "metadata": {
        "id": "xomwy0oSTC5r",
        "colab_type": "code",
        "colab": {
          "base_uri": "https://localhost:8080/",
          "height": 122
        },
        "outputId": "49c51fc9-722f-4cb3-f7ba-23a1c28ea25f"
      },
      "source": [
        "from google.colab import drive\n",
        "drive.mount('/content/drive')"
      ],
      "execution_count": 7,
      "outputs": [
        {
          "output_type": "stream",
          "text": [
            "Go to this URL in a browser: https://accounts.google.com/o/oauth2/auth?client_id=947318989803-6bn6qk8qdgf4n4g3pfee6491hc0brc4i.apps.googleusercontent.com&redirect_uri=urn%3Aietf%3Awg%3Aoauth%3A2.0%3Aoob&scope=email%20https%3A%2F%2Fwww.googleapis.com%2Fauth%2Fdocs.test%20https%3A%2F%2Fwww.googleapis.com%2Fauth%2Fdrive%20https%3A%2F%2Fwww.googleapis.com%2Fauth%2Fdrive.photos.readonly%20https%3A%2F%2Fwww.googleapis.com%2Fauth%2Fpeopleapi.readonly&response_type=code\n",
            "\n",
            "Enter your authorization code:\n",
            "··········\n",
            "Mounted at /content/drive\n"
          ],
          "name": "stdout"
        }
      ]
    },
    {
      "cell_type": "code",
      "metadata": {
        "id": "-4VfHPSrv-9m",
        "colab_type": "code",
        "colab": {}
      },
      "source": [
        "from glove import Corpus, Glove\n",
        "\n",
        "import pandas as pd\n",
        "import numpy as np"
      ],
      "execution_count": 0,
      "outputs": []
    },
    {
      "cell_type": "code",
      "metadata": {
        "id": "0Wvpr_0tv_bY",
        "colab_type": "code",
        "colab": {}
      },
      "source": [
        "def Load_PreTrained_Glove(GloveFile):\n",
        "  Glove_Dictionary = {}\n",
        "  with open(GloveFile,'r') as file:\n",
        "    for line in file:\n",
        "      tokens = line.split()\n",
        "      word = tokens[0]\n",
        "      word_embedding = np.array([float(val) for val in tokens[1:]])\n",
        "      Glove_Dictionary[word] = word_embedding\n",
        "  return Glove_Dictionary"
      ],
      "execution_count": 0,
      "outputs": []
    },
    {
      "cell_type": "code",
      "metadata": {
        "id": "lGgFu3-Pxg6F",
        "colab_type": "code",
        "colab": {}
      },
      "source": [
        "def Calculate_Glove_Embedding(Glove_Dictionary, text):\n",
        "  \n",
        "  words = text.split()\n",
        "  text_embeddings = []\n",
        "  \n",
        "  for word in words:\n",
        "    ## Ignore if word that is not present in vocabulary appears in the text\n",
        "    if word in Glove_Dictionary:\n",
        "      word_embedding = Glove_Dictionary[word]\n",
        "      text_embeddings.append(word_embedding)\n",
        "  \n",
        "  text_embeddings = np.array(text_embeddings)\n",
        "  text_avg_embedding = np.mean(text_embeddings, axis=0)\n",
        "  \n",
        "  return text_avg_embedding"
      ],
      "execution_count": 0,
      "outputs": []
    },
    {
      "cell_type": "code",
      "metadata": {
        "id": "NIgRdRJhyGzQ",
        "colab_type": "code",
        "colab": {}
      },
      "source": [
        "def Get_Glove_Embedding(GloveModel_filepath, Input_Data_filepath, colname, Output_Data_filepath=\"\"):\n",
        "  \n",
        "  Glove_Dictionary = Load_PreTrained_Glove(GloveModel_filepath)\n",
        "    \n",
        "  data = pd.read_csv(Input_Data_filepath)\n",
        "  \n",
        "  Data_Embeddings = []\n",
        "  for row in range(data.shape[0]):\n",
        "#     print(row)\n",
        "    text = data.iloc[row][colname]\n",
        "    text_avg_embedding = Calculate_Glove_Embedding(Glove_Dictionary, text)\n",
        "    Data_Embeddings.append(text_avg_embedding)\n",
        "\n",
        "  # print(\"Data Shape: \", data.shape)\n",
        "  # print(\"Data Columns: \", data.columns)\n",
        "  # print(\"Data Head: \", data.head )\n",
        "  \n",
        "  Data_Text = data[[colname]]\n",
        "  Data_Labels = data[[\"0\"]]\n",
        "  Data_Embeddings = pd.DataFrame(Data_Embeddings)\n",
        "  \n",
        "  Text_Embedding_Map = pd.concat([Data_Text,Data_Embeddings,Data_Labels], axis=1)\n",
        "  \n",
        "  if Output_Data_filepath:\n",
        "    Text_Embedding_Map.to_csv(Output_Data_filepath)\n",
        "  \n",
        "  return Text_Embedding_Map"
      ],
      "execution_count": 0,
      "outputs": []
    },
    {
      "cell_type": "code",
      "metadata": {
        "id": "gQueQnEHybFD",
        "colab_type": "code",
        "colab": {
          "base_uri": "https://localhost:8080/",
          "height": 255
        },
        "outputId": "6bcca075-6510-4713-d6cb-04ffc46ca6f0"
      },
      "source": [
        "Text_Embedding_Map = Get_Glove_Embedding(\"/content/drive/My Drive/glove.twitter.27B/glove.twitter.27B.200d.txt\", \"/content/Final_Labeled_Data.csv\", \"Caption_Tokens\", \"/content/Data_preTrainedGlove_Embeddings.csv\")\n",
        "print(Text_Embedding_Map)"
      ],
      "execution_count": 23,
      "outputs": [
        {
          "output_type": "stream",
          "text": [
            "                                         Caption_Tokens  ...    0\n",
            "0     walking feed sick new gear new brand partner f...  ...  1.0\n",
            "1     one literally one zero calorie sugar free low ...  ...  1.0\n",
            "2     thank listening article original post micro ar...  ...  1.0\n",
            "3     climbing brush name today sad annoying men cli...  ...  1.0\n",
            "4     since think told boring told high maintenance ...  ...  1.0\n",
            "...                                                 ...  ...  ...\n",
            "7275                    face purple today deputy follow  ...  0.0\n",
            "7276  happy fall fall come lot later finally startin...  ...  0.0\n",
            "7277                         tu skin de v si te la para  ...  0.0\n",
            "7278  honestly ever amazing yo l e e e e ga p ore aw...  ...  0.0\n",
            "7279  channel go see good episode like subscribe com...  ...  0.0\n",
            "\n",
            "[7280 rows x 202 columns]\n"
          ],
          "name": "stdout"
        }
      ]
    }
  ]
}