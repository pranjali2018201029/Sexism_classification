{
  "nbformat": 4,
  "nbformat_minor": 0,
  "metadata": {
    "colab": {
      "name": "RandomForest.ipynb",
      "provenance": [],
      "collapsed_sections": []
    },
    "kernelspec": {
      "name": "python3",
      "display_name": "Python 3"
    }
  },
  "cells": [
    {
      "cell_type": "code",
      "metadata": {
        "id": "97WJ9yecHl0P",
        "colab_type": "code",
        "colab": {}
      },
      "source": [
        "from sklearn.ensemble import RandomForestRegressor\n",
        "from sklearn.metrics import classification_report, confusion_matrix\n",
        "\n",
        "import pickle\n",
        "import pandas as pd\n",
        "import numpy as np"
      ],
      "execution_count": 0,
      "outputs": []
    },
    {
      "cell_type": "code",
      "metadata": {
        "id": "ZUc9SLc_bw8i",
        "colab_type": "code",
        "colab": {}
      },
      "source": [
        "## Train multiple decision trees on train data and return object of random forest model\n",
        "\n",
        "def Train_RandomForest(train_data, feature_list=[], No_Decision_Trees=100):\n",
        "      \n",
        "  train_data.dropna()\n",
        "  train_data = pd.DataFrame(np.nan_to_num(np.array(train_data)), columns = train_data.columns)\n",
        "  train_data['Label'] = pd.to_numeric(train_data['Label'], errors='coerce')\n",
        "  train_data = train_data.dropna(subset=['Label'])\n",
        "  \n",
        "  train_features = train_data[feature_list]    \n",
        "  train_labels = train_data[\"Label\"]\n",
        "  train_labels = train_labels.astype('int')\n",
        "\n",
        "  rf = RandomForestRegressor(n_estimators = 100)\n",
        "  rf.fit(train_features, train_labels)\n",
        "  \n",
        "  return rf"
      ],
      "execution_count": 0,
      "outputs": []
    },
    {
      "cell_type": "code",
      "metadata": {
        "id": "J236BVHkbQfL",
        "colab_type": "code",
        "colab": {}
      },
      "source": [
        "## Store trained model in a file to reuse in other codes without training again on same data\n",
        "\n",
        "def Store_Trained_RF(RF_obj, Filepath):\n",
        "  \n",
        "  with open(Filepath, \"wb\") as file:\n",
        "    pickle.dump(RF_obj, file)"
      ],
      "execution_count": 0,
      "outputs": []
    },
    {
      "cell_type": "code",
      "metadata": {
        "id": "2h2oj83qcUbP",
        "colab_type": "code",
        "colab": {}
      },
      "source": [
        "## Load stored trained model and returns random forest model object\n",
        "\n",
        "def Load_Trained_RF(Filepath):\n",
        "  \n",
        "  with open(Filepath, \"rb\") as file:\n",
        "    RF_obj = pickle.load(file)\n",
        "\n",
        "  return RF_obj"
      ],
      "execution_count": 0,
      "outputs": []
    },
    {
      "cell_type": "code",
      "metadata": {
        "id": "VwTvkOx0bznK",
        "colab_type": "code",
        "colab": {}
      },
      "source": [
        "## returns predictions for test data using trained RF model \n",
        "\n",
        "def RF_Predict(rf_obj, test_data, feature_list=[]):\n",
        "  \n",
        "  test_features = test_data[feature_list]\n",
        "#   print(\"========================================\")\n",
        "#   print(test_features.columns)\n",
        "#   for col in test_features.columns:\n",
        "#     print(col, type(col), test_features.iloc[0][col])\n",
        "\n",
        "  predictions = rf_obj.predict(test_features)\n",
        "  \n",
        "  return predictions"
      ],
      "execution_count": 0,
      "outputs": []
    },
    {
      "cell_type": "code",
      "metadata": {
        "id": "UKx3PkfbrKbb",
        "colab_type": "code",
        "colab": {}
      },
      "source": [
        "def Evaluate_RF(test_data, RF_Model_FilePath, feature_list=[], threshold=0.5):\n",
        "  \n",
        "  test_data.dropna()\n",
        "  test_data = pd.DataFrame(np.nan_to_num(np.array(test_data)),  columns = test_data.columns)\n",
        "  test_data['Label'] = pd.to_numeric(test_data['Label'], errors='coerce')\n",
        "  test_data = test_data.dropna(subset=['Label'])\n",
        "  \n",
        "  rf_obj = Load_Trained_RF(RF_Model_FilePath)\n",
        "  \n",
        "  predictions = RF_Predict(rf_obj, test_data, feature_list)\n",
        "  \n",
        "  test_labels = test_data[\"Label\"]\n",
        "  test_labels = test_labels.astype('int')\n",
        "  \n",
        "  for i in range(len(predictions)):\n",
        "    if predictions[i] >= threshold:\n",
        "      predictions[i] = 1\n",
        "    else:\n",
        "      predictions[i] = 0\n",
        "  \n",
        "  predictions = predictions.astype('int')\n",
        "  \n",
        "  errors = abs(predictions - test_labels)\n",
        "\n",
        "  # Calculate mean absolute error (MAE)\n",
        "  MAE = round(np.mean(errors), 2)\n",
        "  \n",
        "  ## Confusion Matrix and Classification Report\n",
        "  Confusion_Matrix = confusion_matrix(test_labels,predictions)\n",
        "  Report = classification_report(test_labels,predictions)\n",
        "  \n",
        "  \n",
        "  return MAE, Confusion_Matrix, Report\n",
        "  "
      ],
      "execution_count": 0,
      "outputs": []
    },
    {
      "cell_type": "code",
      "metadata": {
        "id": "_NR1fLwclTS_",
        "colab_type": "code",
        "colab": {}
      },
      "source": [
        "## Execute below code for different embeddings\n",
        "\n",
        "## Embedded_Data_Train has columns with values for text embedding of post and \"Label\" column has value 0 or 1\n",
        "## Test_Embedding_FilePath : Where trained model will be saved\n",
        "## feature_list = colnames which contains values of embeddings (exclude \"Label\")\n",
        "\n",
        "Column_List = [ \"Caption\"]\n",
        "Vector_Size = 300\n",
        "Embedding_Cols = [str(i) for i in range(Vector_Size)]\n",
        "Column_List.extend(Embedding_Cols)\n",
        "Column_List.append(\"Label\")\n",
        "\n",
        "Train_Embedding_FilePath = \"/content/TrainData_Word2Vec_Embeddings.csv\"\n",
        "Test_Embedding_FilePath = \"/content/TestData_Word2Vec_Embeddings.csv\"\n",
        "RF_Model_FilePath = \"/content/RandomForest_Train_Model.pkl\"\n",
        "\n",
        "train_data = pd.read_csv(Train_Embedding_FilePath, usecols=Column_List)\n",
        "test_data = pd.read_csv(Test_Embedding_FilePath, usecols=Column_List)\n",
        "\n",
        "\n",
        "## Training Phase\n",
        "rf_obj = Train_RandomForest(train_data, Embedding_Cols, 100)\n",
        "Store_Trained_RF(rf_obj, RF_Model_FilePath)"
      ],
      "execution_count": 0,
      "outputs": []
    },
    {
      "cell_type": "code",
      "metadata": {
        "id": "te1he4Xqu3Qu",
        "colab_type": "code",
        "colab": {
          "base_uri": "https://localhost:8080/",
          "height": 357
        },
        "outputId": "9f029ca7-8615-45b7-d446-475af5b1a08a"
      },
      "source": [
        "## Testing Phase\n",
        "MAE, Confusion_Matrix, Report = Evaluate_RF(test_data, RF_Model_FilePath, Embedding_Cols, 0.5)\n",
        "\n",
        "print(\"============ FOR WORD2VEC EMBEDDINGS ============\")\n",
        "\n",
        "print(\"MEAN ABSOLUTE ERROR: \", MAE)\n",
        "\n",
        "print(\"\\n\")\n",
        "print(\"============ CONFUSION MATRIX ===============\")\n",
        "print(Confusion_Matrix)\n",
        "\n",
        "print(\"\\n\")\n",
        "print(\"============ CLASSIFICATION REPORT ==============\")\n",
        "print(Report)\n",
        "\n",
        "tn, fp, fn, tp = Confusion_Matrix.ravel()\n",
        "Accuracy = (tn+tp)/(tn + fp + fn + tp)\n",
        "\n",
        "print(\"Accuracy: \", Accuracy*100)"
      ],
      "execution_count": 8,
      "outputs": [
        {
          "output_type": "stream",
          "text": [
            "============ FOR WORD2VEC EMBEDDINGS ============\n",
            "MEAN ABSOLUTE ERROR:  0.13\n",
            "\n",
            "\n",
            "============ CONFUSION MATRIX ===============\n",
            "[[657  76]\n",
            " [120 603]]\n",
            "\n",
            "\n",
            "============ CLASSIFICATION REPORT ==============\n",
            "              precision    recall  f1-score   support\n",
            "\n",
            "           0       0.85      0.90      0.87       733\n",
            "           1       0.89      0.83      0.86       723\n",
            "\n",
            "    accuracy                           0.87      1456\n",
            "   macro avg       0.87      0.87      0.87      1456\n",
            "weighted avg       0.87      0.87      0.87      1456\n",
            "\n",
            "Accuracy:  86.53846153846155\n"
          ],
          "name": "stdout"
        }
      ]
    },
    {
      "cell_type": "code",
      "metadata": {
        "id": "1cRwAdzX4XTy",
        "colab_type": "code",
        "colab": {}
      },
      "source": [
        "## GLove Embeddings\n",
        "\n",
        "Column_List = [ \"Caption_Tokens\"]\n",
        "Vector_Size = 300\n",
        "Embedding_Cols = [str(i) for i in range(Vector_Size)]\n",
        "Column_List.extend(Embedding_Cols)\n",
        "Column_List.append(\"Label\")\n",
        "\n",
        "Train_Embedding_FilePath = \"/content/TrainData_Glove_Embeddings.csv\"\n",
        "Test_Embedding_FilePath = \"/content/TestData_Glove_Embeddings.csv\"\n",
        "RF_Model_FilePath = \"/content/RandomForest_Glove_Train_Model.pkl\"\n",
        "\n",
        "train_data = pd.read_csv(Train_Embedding_FilePath, usecols=Column_List)\n",
        "test_data = pd.read_csv(Test_Embedding_FilePath, usecols=Column_List)\n",
        "\n",
        "## Training Phase\n",
        "rf_obj = Train_RandomForest(train_data, Embedding_Cols, 100)\n",
        "Store_Trained_RF(rf_obj, RF_Model_FilePath)\n"
      ],
      "execution_count": 0,
      "outputs": []
    },
    {
      "cell_type": "code",
      "metadata": {
        "id": "dPkw1t124am_",
        "colab_type": "code",
        "colab": {
          "base_uri": "https://localhost:8080/",
          "height": 340
        },
        "outputId": "14888725-798a-4e40-d7d0-eb8c993d3ef6"
      },
      "source": [
        "## Testing Phase\n",
        "MAE, Confusion_Matrix, Report = Evaluate_RF(test_data, RF_Model_FilePath, Embedding_Cols, 0.5)\n",
        "\n",
        "print(\"MEAN ABSOLUTE ERROR: \", MAE)\n",
        "\n",
        "print(\"\\n\")\n",
        "print(\"============ CONFUSION MATRIX ===============\")\n",
        "print(Confusion_Matrix)\n",
        "\n",
        "print(\"\\n\")\n",
        "print(\"============ CLASSIFICATION REPORT ==============\")\n",
        "print(Report)\n",
        "\n",
        "tn, fp, fn, tp = Confusion_Matrix.ravel()\n",
        "Accuracy = (tn+tp)/(tn + fp + fn + tp)\n",
        "\n",
        "print(\"Accuracy: \", Accuracy*100)"
      ],
      "execution_count": 10,
      "outputs": [
        {
          "output_type": "stream",
          "text": [
            "MEAN ABSOLUTE ERROR:  0.18\n",
            "\n",
            "\n",
            "============ CONFUSION MATRIX ===============\n",
            "[[599 118]\n",
            " [147 592]]\n",
            "\n",
            "\n",
            "============ CLASSIFICATION REPORT ==============\n",
            "              precision    recall  f1-score   support\n",
            "\n",
            "           0       0.80      0.84      0.82       717\n",
            "           1       0.83      0.80      0.82       739\n",
            "\n",
            "    accuracy                           0.82      1456\n",
            "   macro avg       0.82      0.82      0.82      1456\n",
            "weighted avg       0.82      0.82      0.82      1456\n",
            "\n",
            "Accuracy:  81.79945054945054\n"
          ],
          "name": "stdout"
        }
      ]
    }
  ]
}