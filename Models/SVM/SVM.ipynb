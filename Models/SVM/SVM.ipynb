{
  "nbformat": 4,
  "nbformat_minor": 0,
  "metadata": {
    "colab": {
      "name": "SVM.ipynb",
      "provenance": [],
      "collapsed_sections": []
    },
    "kernelspec": {
      "name": "python3",
      "display_name": "Python 3"
    }
  },
  "cells": [
    {
      "cell_type": "code",
      "metadata": {
        "id": "02W6gOZBv85g",
        "colab_type": "code",
        "colab": {}
      },
      "source": [
        "import pandas as pd\n",
        "import numpy as np\n",
        "import pickle\n",
        "\n",
        "from sklearn.metrics import classification_report, confusion_matrix\n",
        "from sklearn.svm import SVC"
      ],
      "execution_count": 0,
      "outputs": []
    },
    {
      "cell_type": "code",
      "metadata": {
        "id": "n-9d3RCYyBrN",
        "colab_type": "code",
        "colab": {}
      },
      "source": [
        "## Train SVM on train data and return object of SVM classifier\n",
        "## kernel parameter = ['linear’, ‘poly’, ‘rbf’, ‘sigmoid’, ‘precomputed’]\n",
        "\n",
        "def Train_SVM(train_data, feature_list=[], SVM_kernel=\"linear\", Regularization=1.0):\n",
        "  \n",
        "  train_data.dropna()\n",
        "  train_data = pd.DataFrame(np.nan_to_num(np.array(train_data)), columns = train_data.columns)\n",
        "  train_data['Label'] = pd.to_numeric(train_data['Label'], errors='coerce')\n",
        "  train_data = train_data.dropna(subset=['Label'])\n",
        "  \n",
        "  train_features = train_data[feature_list]\n",
        "  train_labels = train_data['Label']\n",
        "  train_labels = train_labels.astype('int')\n",
        "  \n",
        "  svclassifier = SVC(kernel=SVM_kernel, C=Regularization)\n",
        "  \n",
        "  svclassifier.fit(train_features, train_labels)\n",
        "  \n",
        "  return svclassifier"
      ],
      "execution_count": 0,
      "outputs": []
    },
    {
      "cell_type": "code",
      "metadata": {
        "id": "8ZRWsM130KIp",
        "colab_type": "code",
        "colab": {}
      },
      "source": [
        "## Store trained classifier in a file to reuse in other codes without training again on same data\n",
        "\n",
        "def Store_Trained_SVM(SVM_obj, Filepath):\n",
        "  \n",
        "  with open(Filepath, \"wb\") as file:\n",
        "    pickle.dump(SVM_obj, file)"
      ],
      "execution_count": 0,
      "outputs": []
    },
    {
      "cell_type": "code",
      "metadata": {
        "id": "PAXDDTwq0Prb",
        "colab_type": "code",
        "colab": {}
      },
      "source": [
        "## Load stored trained classifier and returns SVM classifier object\n",
        "\n",
        "def Load_Trained_SVM(Filepath):\n",
        "  \n",
        "  with open(Filepath, \"rb\") as file:\n",
        "    SVM_obj = pickle.load(file)\n",
        "\n",
        "  return SVM_obj"
      ],
      "execution_count": 0,
      "outputs": []
    },
    {
      "cell_type": "code",
      "metadata": {
        "id": "yIv7dDRk0V5Z",
        "colab_type": "code",
        "colab": {}
      },
      "source": [
        "## returns predictions for test data using trained SVM classifer \n",
        "\n",
        "def SVM_Predict(svm_obj, test_data, feature_list=[]):\n",
        "  \n",
        "  test_features = test_data[feature_list]\n",
        "  predictions = svm_obj.predict(test_features)\n",
        "  \n",
        "  return predictions"
      ],
      "execution_count": 0,
      "outputs": []
    },
    {
      "cell_type": "code",
      "metadata": {
        "id": "XfjVHX_f0jBK",
        "colab_type": "code",
        "colab": {}
      },
      "source": [
        "def Evaluate_SVM(test_data, SVM_Model_FilePath, feature_list=[]):\n",
        "  \n",
        "  test_data.dropna()\n",
        "  test_data = pd.DataFrame(np.nan_to_num(np.array(test_data)), columns = test_data.columns)\n",
        "  test_data['Label'] = pd.to_numeric(test_data['Label'], errors='coerce')\n",
        "  test_data = test_data.dropna(subset=['Label'])\n",
        "  \n",
        "  svm_obj = Load_Trained_SVM(SVM_Model_FilePath)\n",
        "  \n",
        "  predictions = SVM_Predict(svm_obj, test_data, feature_list)\n",
        "  \n",
        "  test_labels = test_data['Label']\n",
        "  \n",
        "  test_labels = test_labels.astype('int')\n",
        "  errors = abs(predictions - test_labels)\n",
        "\n",
        "  # Calculate mean absolute error (MAE)\n",
        "  MAE = round(np.mean(errors), 2)\n",
        "  \n",
        "  ## Confusion Matrix and Classification Report\n",
        "  Confusion_Matrix = confusion_matrix(test_labels,predictions)\n",
        "  Report = classification_report(test_labels,predictions)\n",
        "  \n",
        "  \n",
        "  return MAE, Confusion_Matrix, Report\n",
        "  "
      ],
      "execution_count": 0,
      "outputs": []
    },
    {
      "cell_type": "code",
      "metadata": {
        "id": "pfwtpjqE0w60",
        "colab_type": "code",
        "colab": {}
      },
      "source": [
        "## Execute below code for different embeddings\n",
        "\n",
        "## Embedded_Data_Train has columns with values for text embedding of post and \"Label\" column has value 0 or 1\n",
        "## Test_Embedding_FilePath : Where trained classifier will be saved\n",
        "## feature_list = colnames which contains values of embeddings (exclude \"Label\")\n",
        "\n",
        "Column_List = [ \"Caption\"]\n",
        "Vector_Size = 300\n",
        "Embedding_Cols = [str(i) for i in range(Vector_Size)]\n",
        "Column_List.extend(Embedding_Cols)\n",
        "Column_List.append(\"Label\")\n",
        "\n",
        "Train_Embedding_FilePath = \"/content/TrainData_Word2Vec_Embeddings.csv\"\n",
        "Test_Embedding_FilePath = \"/content/TestData_Word2Vec_Embeddings.csv\"\n",
        "SVM_Model_FilePath = \"/content/SVM_Train_Model.pkl\"\n",
        "\n",
        "train_data = pd.read_csv(Train_Embedding_FilePath, usecols=Column_List)\n",
        "test_data = pd.read_csv(Test_Embedding_FilePath, usecols=Column_List)\n",
        "\n",
        "## Training Phase\n",
        "svm_obj = Train_SVM(train_data, Embedding_Cols)\n",
        "Store_Trained_SVM(svm_obj, SVM_Model_FilePath)"
      ],
      "execution_count": 0,
      "outputs": []
    },
    {
      "cell_type": "code",
      "metadata": {
        "id": "0vMmHSLxCStg",
        "colab_type": "code",
        "outputId": "99e32469-42bd-4d85-804e-70110f82aa59",
        "colab": {
          "base_uri": "https://localhost:8080/",
          "height": 323
        }
      },
      "source": [
        "## Testing Phase\n",
        "MAE, Confusion_Matrix, Report = Evaluate_SVM(test_data, SVM_Model_FilePath, Embedding_Cols)\n",
        "\n",
        "print(\"MEAN ABSOLUTE ERROR: \", MAE)\n",
        "\n",
        "print(\"\\n\")\n",
        "print(\"============ CONFUSION MATRIX ===============\")\n",
        "print(Confusion_Matrix)\n",
        "\n",
        "print(\"\\n\")\n",
        "print(\"============ CLASSIFICATION REPORT ==============\")\n",
        "print(Report)"
      ],
      "execution_count": 8,
      "outputs": [
        {
          "output_type": "stream",
          "text": [
            "MEAN ABSOLUTE ERROR:  0.17\n",
            "\n",
            "\n",
            "============ CONFUSION MATRIX ===============\n",
            "[[610 123]\n",
            " [127 596]]\n",
            "\n",
            "\n",
            "============ CLASSIFICATION REPORT ==============\n",
            "              precision    recall  f1-score   support\n",
            "\n",
            "           0       0.83      0.83      0.83       733\n",
            "           1       0.83      0.82      0.83       723\n",
            "\n",
            "    accuracy                           0.83      1456\n",
            "   macro avg       0.83      0.83      0.83      1456\n",
            "weighted avg       0.83      0.83      0.83      1456\n",
            "\n"
          ],
          "name": "stdout"
        }
      ]
    },
    {
      "cell_type": "code",
      "metadata": {
        "id": "FeTZvSPC2nt-",
        "colab_type": "code",
        "colab": {}
      },
      "source": [
        "## GLove Embeddings\n",
        "\n",
        "Column_List = [ \"Caption_Tokens\"]\n",
        "Vector_Size = 300\n",
        "Embedding_Cols = [str(i) for i in range(Vector_Size)]\n",
        "Column_List.extend(Embedding_Cols)\n",
        "Column_List.append(\"Label\")\n",
        "\n",
        "Train_Embedding_FilePath = \"/content/TrainData_Glove_Embeddings.csv\"\n",
        "Test_Embedding_FilePath = \"/content/TestData_Glove_Embeddings.csv\"\n",
        "SVM_Model_FilePath = \"/content/SVMG_love_Train_Model.pkl\"\n",
        "\n",
        "train_data = pd.read_csv(Train_Embedding_FilePath, usecols=Column_List)\n",
        "test_data = pd.read_csv(Test_Embedding_FilePath, usecols=Column_List)\n",
        "\n",
        "## Training Phase\n",
        "svm_obj = Train_SVM(train_data, Embedding_Cols)\n",
        "Store_Trained_SVM(svm_obj, SVM_Model_FilePath)\n"
      ],
      "execution_count": 0,
      "outputs": []
    },
    {
      "cell_type": "code",
      "metadata": {
        "id": "NNpoLW6fC9W1",
        "colab_type": "code",
        "colab": {
          "base_uri": "https://localhost:8080/",
          "height": 323
        },
        "outputId": "a1eb10db-a409-4074-c2fa-f6c28104485f"
      },
      "source": [
        "## Testing Phase\n",
        "MAE, Confusion_Matrix, Report = Evaluate_SVM(test_data, SVM_Model_FilePath, Embedding_Cols)\n",
        "\n",
        "print(\"MEAN ABSOLUTE ERROR: \", MAE)\n",
        "\n",
        "print(\"\\n\")\n",
        "print(\"============ CONFUSION MATRIX ===============\")\n",
        "print(Confusion_Matrix)\n",
        "\n",
        "print(\"\\n\")\n",
        "print(\"============ CLASSIFICATION REPORT ==============\")\n",
        "print(Report)"
      ],
      "execution_count": 10,
      "outputs": [
        {
          "output_type": "stream",
          "text": [
            "MEAN ABSOLUTE ERROR:  0.25\n",
            "\n",
            "\n",
            "============ CONFUSION MATRIX ===============\n",
            "[[588 129]\n",
            " [235 504]]\n",
            "\n",
            "\n",
            "============ CLASSIFICATION REPORT ==============\n",
            "              precision    recall  f1-score   support\n",
            "\n",
            "           0       0.71      0.82      0.76       717\n",
            "           1       0.80      0.68      0.73       739\n",
            "\n",
            "    accuracy                           0.75      1456\n",
            "   macro avg       0.76      0.75      0.75      1456\n",
            "weighted avg       0.76      0.75      0.75      1456\n",
            "\n"
          ],
          "name": "stdout"
        }
      ]
    }
  ]
}